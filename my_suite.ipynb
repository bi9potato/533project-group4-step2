{
 "cells": [
  {
   "cell_type": "code",
   "execution_count": 39,
   "metadata": {},
   "outputs": [
    {
     "name": "stderr",
     "output_type": "stream",
     "text": [
      "........\n",
      "----------------------------------------------------------------------\n",
      "Ran 8 tests in 0.003s\n",
      "\n",
      "OK\n"
     ]
    },
    {
     "name": "stdout",
     "output_type": "stream",
     "text": [
      "Modified successfully!\n",
      "job ajob3 already exists, modification is prohibited.\n",
      "no enough job gjob3\n",
      "there doesn't exist job gjob1\n",
      "\n",
      "job name\tremaining\t type\t\t date\n",
      "gjob1 \t\t 3 \t\t type 1 \t 2022-10-10\n",
      "\n",
      "job name\tremaining\t type\t\t date\n",
      "gjob2 \t\t 2 \t\t type 2 \t 2022-10-11\n",
      "The job was not found\n",
      "The job was not found\n",
      "setupClass\n",
      "Tear Down\n",
      "Tear Down\n",
      "teardownClass\n",
      "Login success!\n",
      "Wrong account or password!\n",
      "Login success!\n",
      "<unittest.runner.TextTestResult run=8 errors=0 failures=0>\n"
     ]
    }
   ],
   "source": [
    "import unittest\n",
    "from TestAdmin import TestAdmin\n",
    "from TestJobseeker import TestJobseeker\n",
    "\n",
    "from TestCompany import TestCompany\n",
    "from TestMenu import TestMenu\n",
    "\n",
    "def my_suite():\n",
    "    \n",
    "    suite = unittest.TestSuite()\n",
    "    result = unittest.TestResult()\n",
    "    \n",
    "    suite.addTest(unittest.makeSuite(TestAdmin))\n",
    "    suite.addTest(unittest.makeSuite(TestJobseeker))\n",
    "    suite.addTest(unittest.makeSuite(TestCompany))\n",
    "    suite.addTest(unittest.makeSuite(TestMenu))\n",
    "    \n",
    "    runner = unittest.TextTestRunner()\n",
    "    print(runner.run(suite))\n",
    "\n",
    "my_suite()"
   ]
  },
  {
   "cell_type": "code",
   "execution_count": 37,
   "metadata": {},
   "outputs": [
    {
     "name": "stderr",
     "output_type": "stream",
     "text": [
      "test_login (__main__.TestMenu) ... ok\n",
      "test_search_company (__main__.TestMenu) ... ok\n",
      "\n",
      "----------------------------------------------------------------------\n",
      "Ran 2 tests in 0.002s\n",
      "\n",
      "OK\n"
     ]
    },
    {
     "name": "stdout",
     "output_type": "stream",
     "text": [
      "Login success!\n",
      "Wrong account or password!\n",
      "Login success!\n"
     ]
    },
    {
     "data": {
      "text/plain": [
       "<unittest.main.TestProgram at 0x2619d1a3fd0>"
      ]
     },
     "execution_count": 37,
     "metadata": {},
     "output_type": "execute_result"
    }
   ],
   "source": []
  }
 ],
 "metadata": {
  "kernelspec": {
   "display_name": "Python 3 (ipykernel)",
   "language": "python",
   "name": "python3"
  },
  "language_info": {
   "codemirror_mode": {
    "name": "ipython",
    "version": 3
   },
   "file_extension": ".py",
   "mimetype": "text/x-python",
   "name": "python",
   "nbconvert_exporter": "python",
   "pygments_lexer": "ipython3",
   "version": "3.9.15"
  },
  "vscode": {
   "interpreter": {
    "hash": "9d50d3a74565e79c0ca7228c88e72be098c8ceb6c02f40dad4b8ac2d352f39de"
   }
  }
 },
 "nbformat": 4,
 "nbformat_minor": 4
}
